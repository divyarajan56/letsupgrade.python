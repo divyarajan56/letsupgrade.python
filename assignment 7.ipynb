{
 "cells": [
  {
   "cell_type": "raw",
   "metadata": {},
   "source": [
    "# To create a new dictionanry in which keys become values and values become keys "
   ]
  },
  {
   "cell_type": "code",
   "execution_count": 2,
   "metadata": {},
   "outputs": [
    {
     "name": "stdout",
     "output_type": "stream",
     "text": [
      "the output: {'ftp': 21, 'ssh': 22, 'telnet': 23, 'http': 80}\n"
     ]
    }
   ],
   "source": [
    "dict1 = {21: \"ftp\", 22:\"ssh\", 23: \"telnet\", 80: \"http\"}\n",
    "dict2 = {value:key \n",
    "        for key, value in dict1 . items()}\n",
    "print(\"the output:\",dict2)"
   ]
  },
  {
   "cell_type": "raw",
   "metadata": {},
   "source": [
    "## Make a list which contains the sum of tuple"
   ]
  },
  {
   "cell_type": "code",
   "execution_count": 8,
   "metadata": {},
   "outputs": [
    {
     "name": "stdout",
     "output_type": "stream",
     "text": [
      "the list contains sum of tuple: [3]\n",
      "the list contains sum of tuple: [3, 7]\n",
      "the list contains sum of tuple: [3, 7, 11]\n",
      "the list contains sum of tuple: [3, 7, 11, 9]\n"
     ]
    }
   ],
   "source": [
    "list1 = [(1,2),(3,4),(5,6),(4,5)]\n",
    "list2 = []\n",
    "for each in range(0,len(list1)):\n",
    "    a,b = list1[each]\n",
    "    list2.append(a+b)\n",
    "    print(\"the list contains sum of tuple:\", list2)"
   ]
  },
  {
   "cell_type": "raw",
   "metadata": {},
   "source": [
    "                             OR"
   ]
  },
  {
   "cell_type": "code",
   "execution_count": 10,
   "metadata": {},
   "outputs": [
    {
     "name": "stdout",
     "output_type": "stream",
     "text": [
      "[3, 7, 11, 9]\n"
     ]
    }
   ],
   "source": [
    "list1 = [(1,2),(3,4),(5,6),(4,5)]\n",
    "op = [sum(i) for i in list1]\n",
    "print(op)"
   ]
  },
  {
   "cell_type": "raw",
   "metadata": {},
   "source": [
    "## To make the elements in the inner list and tuple to the outer list:"
   ]
  },
  {
   "cell_type": "code",
   "execution_count": 6,
   "metadata": {},
   "outputs": [
    {
     "name": "stdout",
     "output_type": "stream",
     "text": [
      "the required output: [1, 2, 3, 1, 2, 'a', 'hit', 'less']\n"
     ]
    }
   ],
   "source": [
    "list1 = [(1,2,3),[1,2],['a','hit','less']]\n",
    "list2 = []\n",
    "list2 = [i for each in list1 for i in each]\n",
    "print(\"the required output:\", list2)"
   ]
  }
 ],
 "metadata": {
  "kernelspec": {
   "display_name": "Python 3",
   "language": "python",
   "name": "python3"
  },
  "language_info": {
   "codemirror_mode": {
    "name": "ipython",
    "version": 3
   },
   "file_extension": ".py",
   "mimetype": "text/x-python",
   "name": "python",
   "nbconvert_exporter": "python",
   "pygments_lexer": "ipython3",
   "version": "3.7.6"
  }
 },
 "nbformat": 4,
 "nbformat_minor": 4
}
