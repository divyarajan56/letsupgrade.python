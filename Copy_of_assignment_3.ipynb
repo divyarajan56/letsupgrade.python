{
  "nbformat": 4,
  "nbformat_minor": 0,
  "metadata": {
    "colab": {
      "name": "Copy of assignment 3",
      "provenance": [],
      "collapsed_sections": []
    },
    "kernelspec": {
      "name": "python3",
      "display_name": "Python 3"
    }
  },
  "cells": [
    {
      "cell_type": "code",
      "metadata": {
        "id": "bi5oO4f7DIKB",
        "colab_type": "code",
        "colab": {
          "base_uri": "https://localhost:8080/",
          "height": 286
        },
        "outputId": "51b41841-8cfe-4bfd-c223-383d63f9d492"
      },
      "source": [
        "# Python program to find prime numbers\n",
        "lower = 1\n",
        "upper = 50\n",
        "\n",
        "print(\"Prime numbers between\", lower, \"and\", upper, \"are:\")\n",
        "\n",
        "for num in range(lower, upper + 1):\n",
        "  \n",
        "   if num > 1:\n",
        "        for i in range(2, num):\n",
        "            if (num % i) == 0:\n",
        "                break\n",
        "        else:\n",
        "            print(num)"
      ],
      "execution_count": null,
      "outputs": [
        {
          "output_type": "stream",
          "text": [
            "Prime numbers between 1 and 50 are:\n",
            "2\n",
            "3\n",
            "5\n",
            "7\n",
            "11\n",
            "13\n",
            "17\n",
            "19\n",
            "23\n",
            "29\n",
            "31\n",
            "37\n",
            "41\n",
            "43\n",
            "47\n"
          ],
          "name": "stdout"
        }
      ]
    },
    {
      "cell_type": "code",
      "metadata": {
        "id": "mxnZYv8uDSKb",
        "colab_type": "code",
        "colab": {
          "base_uri": "https://localhost:8080/",
          "height": 118
        },
        "outputId": "d59f86ef-e573-498b-f2fe-eb622cd66082"
      },
      "source": [
        "# Code for sum of n numbers using while loop \n",
        "\n",
        "num = int(input(\"Enter the value of n: \"))\n",
        "hold=num\n",
        "sum=0\n",
        "while num > 0:\n",
        "        sum = sum + num\n",
        "        num = num - 1;\n",
        "        print(\"Sum of first\",hold,\"numbers is: \", sum)"
      ],
      "execution_count": null,
      "outputs": [
        {
          "output_type": "stream",
          "text": [
            "Enter the value of n: 5\n",
            "Sum of first 5 numbers is:  5\n",
            "Sum of first 5 numbers is:  9\n",
            "Sum of first 5 numbers is:  12\n",
            "Sum of first 5 numbers is:  14\n",
            "Sum of first 5 numbers is:  15\n"
          ],
          "name": "stdout"
        }
      ]
    },
    {
      "cell_type": "code",
      "metadata": {
        "id": "znBu54yXDZxH",
        "colab_type": "code",
        "colab": {}
      },
      "source": [
        ""
      ],
      "execution_count": null,
      "outputs": []
    }
  ]
}