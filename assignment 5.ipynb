{
 "cells": [
  {
   "cell_type": "code",
   "execution_count": 1,
   "metadata": {},
   "outputs": [],
   "source": [
    "##Asignment 1 --> Merge the two sorted lists to produce one sorted list using any one loop one time.\n",
    "##list1 = [10,20,40,60,70,80] - sorted list\n",
    "##list2 = [5,15,25,35,45,60]  -  sorted list"
   ]
  },
  {
   "cell_type": "code",
   "execution_count": 18,
   "metadata": {},
   "outputs": [
    {
     "name": "stdout",
     "output_type": "stream",
     "text": [
      "5,10,15,20,25,35,40,45,60,70,80,"
     ]
    }
   ],
   "source": [
    "list1 = [10,20,40,60,70,80] \n",
    "list2 = [5,15,25,35,45,60]\n",
    "res = list1+list2\n",
    "for each in range(5,81):\n",
    "    if each in res: \n",
    "        print(each, end = \",\")\n"
   ]
  },
  {
   "cell_type": "code",
   "execution_count": 19,
   "metadata": {},
   "outputs": [],
   "source": [
    "## Assignment 2 --> [0,1,2,10,4,1,0,56,2,0,1,3,0,56,0,4]\n",
    "## sort by increasing order but all the zeros should be at the right hand side."
   ]
  },
  {
   "cell_type": "code",
   "execution_count": 20,
   "metadata": {},
   "outputs": [
    {
     "name": "stdout",
     "output_type": "stream",
     "text": [
      "[1, 1, 1, 2, 2, 3, 4, 4, 10, 56, 56, 0, 0, 0, 0, 0]\n"
     ]
    }
   ],
   "source": [
    "listt = [0,1,2,10,4,1,0,56,2,0,1,3,0,56,0,4]\n",
    "listt.sort()\n",
    "listt.extend((0,0,0,0,0))\n",
    "del listt[0:5]\n",
    "print(listt)"
   ]
  },
  {
   "cell_type": "code",
   "execution_count": null,
   "metadata": {},
   "outputs": [],
   "source": []
  }
 ],
 "metadata": {
  "kernelspec": {
   "display_name": "Python 3",
   "language": "python",
   "name": "python3"
  },
  "language_info": {
   "codemirror_mode": {
    "name": "ipython",
    "version": 3
   },
   "file_extension": ".py",
   "mimetype": "text/x-python",
   "name": "python",
   "nbconvert_exporter": "python",
   "pygments_lexer": "ipython3",
   "version": "3.7.6"
  }
 },
 "nbformat": 4,
 "nbformat_minor": 4
}
